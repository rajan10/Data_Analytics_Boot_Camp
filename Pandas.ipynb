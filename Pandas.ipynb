{
 "cells": [
  {
   "cell_type": "code",
   "execution_count": null,
   "metadata": {
    "collapsed": true
   },
   "outputs": [],
   "source": []
  },
  {
   "cell_type": "code",
   "execution_count": 1,
   "metadata": {},
   "outputs": [
    {
     "data": {
      "text/html": [
       "<div>\n",
       "<style>\n",
       "    .dataframe thead tr:only-child th {\n",
       "        text-align: right;\n",
       "    }\n",
       "\n",
       "    .dataframe thead th {\n",
       "        text-align: left;\n",
       "    }\n",
       "\n",
       "    .dataframe tbody tr th {\n",
       "        vertical-align: top;\n",
       "    }\n",
       "</style>\n",
       "<table border=\"1\" class=\"dataframe\">\n",
       "  <thead>\n",
       "    <tr style=\"text-align: right;\">\n",
       "      <th></th>\n",
       "      <th>Risk</th>\n",
       "    </tr>\n",
       "    <tr>\n",
       "      <th>Risk</th>\n",
       "      <th></th>\n",
       "    </tr>\n",
       "  </thead>\n",
       "  <tbody>\n",
       "    <tr>\n",
       "      <th>Critical</th>\n",
       "      <td>8121</td>\n",
       "    </tr>\n",
       "    <tr>\n",
       "      <th>High</th>\n",
       "      <td>83266</td>\n",
       "    </tr>\n",
       "    <tr>\n",
       "      <th>Medium</th>\n",
       "      <td>5286</td>\n",
       "    </tr>\n",
       "  </tbody>\n",
       "</table>\n",
       "</div>"
      ],
      "text/plain": [
       "           Risk\n",
       "Risk           \n",
       "Critical   8121\n",
       "High      83266\n",
       "Medium     5286"
      ]
     },
     "execution_count": 1,
     "metadata": {},
     "output_type": "execute_result"
    }
   ],
   "source": [
    "import pandas as pd\n",
    "import os\n",
    "import numpy as np\n",
    "from matplotlib import pyplot as plt\n",
    "df=pd.read_csv(r'C:\\Users\\RG\\Desktop\\Millenium1 SolutionsJune17\\Khuram\\SCAN\\Intrusive_non_CDE_servers_Advance_2019jul27.csv')\n",
    "#plt.plot(df['Plugin ID'], df['Port'])\n",
    "#df[[\"CVE\", \"Risk\"]]\n",
    "#type(df[[\"CVE\", \"Risk\"]])\n",
    "# this is dataframe \n",
    "#df.CVE.iloc[4]\n",
    "#in the df frame find the CVE column series and in that column return back the index 0 which is first value in the column \n",
    "df1=df.loc[(df['Risk']=='Critical')| (df['Risk']=='High')|(df['Risk']=='Medium')]\n",
    "#df1\n",
    "df3=df1.groupby(\"Risk\").agg({'Risk':(np.size)})\n",
    "df3\n",
    "\n",
    "#x = df.Plugin_ID\n",
    "#y = df.Port\n",
    "#plt.scatter(x, y)\n",
    "#plt.show() \n",
    "\n",
    "#type(df.CVE)\n",
    "#type(df)\n",
    "\n",
    "\n",
    "#df = df.sort_values(by=['Plugin ID'], ascending=False)\n",
    "#df\n",
    "\n",
    "\n",
    "#df.info()"
   ]
  }
 ],
 "metadata": {
  "kernelspec": {
   "display_name": "Python 3",
   "language": "python",
   "name": "python3"
  },
  "language_info": {
   "codemirror_mode": {
    "name": "ipython",
    "version": 3
   },
   "file_extension": ".py",
   "mimetype": "text/x-python",
   "name": "python",
   "nbconvert_exporter": "python",
   "pygments_lexer": "ipython3",
   "version": "3.6.3"
  }
 },
 "nbformat": 4,
 "nbformat_minor": 2
}
