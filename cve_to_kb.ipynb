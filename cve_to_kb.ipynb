{
 "cells": [
  {
   "cell_type": "code",
   "execution_count": 1,
   "metadata": {},
   "outputs": [
    {
     "name": "stdout",
     "output_type": "stream",
     "text": [
      "set()\n"
     ]
    }
   ],
   "source": [
    "import requests\n",
    "import datetime\n",
    "import json\n",
    "\n",
    "base_url = \"https://api.msrc.microsoft.com/\"\n",
    "api_key = \"bbc3f1a7b1da4fbb8c743ecb59f3ed99\"\n",
    "\n",
    "#Find the cvrf_id (in the form YYYY-Month) given the CVE of interest\n",
    "def get_cvrf_id_for_cve(cve):\n",
    "    url = \"{}Updates('{}')?api-version={}\".format(base_url, str(cve),   str(datetime.datetime.now().year))\n",
    "    headers = {'api-key': api_key}\n",
    "    response = requests.get(url, headers=headers)\n",
    "    if response.status_code == 200:\n",
    "        data = json.loads(response.content)\n",
    "        id = data[\"value\"][0][\"ID\"]\n",
    "    else:\n",
    "        id = None\n",
    "    return id\n",
    "\n",
    "#get the cvrf data and extract kd's for the CVE of interest\n",
    "def get_knowledge_bases_for_cve(cve):\n",
    "    id = get_cvrf_id_for_cve(cve)\n",
    "    if id == None:\n",
    "        return []\n",
    "    url = \"{}cvrf/{}?api-Version={}\".format(base_url, id,   str(datetime.datetime.now().year))\n",
    "    headers = {'api-key': api_key, 'Accept': 'application/json'}\n",
    "    response = requests.get(url, headers = headers)\n",
    "    data = json.loads(response.content)\n",
    "    kbs = {'KB{}'.format(kb['Description']['Value']) for vuln in data[\"Vulnerability\"] if vuln[\"CVE\"] == cve for kb in vuln[\"Remediations\"]}\n",
    "    return kbs\n",
    "\n",
    "eternal_blue = 'CVE-2020-0143'\n",
    "eternal_blue_kbs = get_knowledge_bases_for_cve(eternal_blue)\n",
    "print(eternal_blue_kbs)"
   ]
  }
 ],
 "metadata": {
  "kernelspec": {
   "display_name": "Python 3",
   "language": "python",
   "name": "python3"
  },
  "language_info": {
   "codemirror_mode": {
    "name": "ipython",
    "version": 3
   },
   "file_extension": ".py",
   "mimetype": "text/x-python",
   "name": "python",
   "nbconvert_exporter": "python",
   "pygments_lexer": "ipython3",
   "version": "3.6.3"
  }
 },
 "nbformat": 4,
 "nbformat_minor": 2
}
